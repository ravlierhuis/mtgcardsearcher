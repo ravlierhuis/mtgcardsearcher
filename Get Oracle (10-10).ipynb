{
 "cells": [
  {
   "cell_type": "markdown",
   "metadata": {},
   "source": [
    "We voeren hier de kaarten van het deck in. "
   ]
  },
  {
   "cell_type": "code",
   "execution_count": 1,
   "metadata": {
    "scrolled": false
   },
   "outputs": [
    {
     "name": "stdout",
     "output_type": "stream",
     "text": [
      "Enter a card name:black lotus\n",
      "black-lotus\n"
     ]
    }
   ],
   "source": [
    "import requests\n",
    "import urllib.request\n",
    "import time\n",
    "from bs4 import BeautifulSoup\n",
    "import re\n",
    "\n",
    "cardname = input (\"Enter a card name:\")\n",
    "cardname = cardname.replace(\" \", \"-\")\n",
    "cardname = cardname.lower()\n",
    "print (cardname)"
   ]
  },
  {
   "cell_type": "code",
   "execution_count": 2,
   "metadata": {},
   "outputs": [],
   "source": [
    "url = 'http://scryfall.com/search?q=!'+ cardname + '+-in:amh1'\n",
    "response = requests.get(url)"
   ]
  },
  {
   "cell_type": "code",
   "execution_count": 3,
   "metadata": {
    "scrolled": true
   },
   "outputs": [
    {
     "data": {
      "text/plain": [
       "<Response [200]>"
      ]
     },
     "execution_count": 3,
     "metadata": {},
     "output_type": "execute_result"
    }
   ],
   "source": [
    "response"
   ]
  },
  {
   "cell_type": "code",
   "execution_count": 4,
   "metadata": {},
   "outputs": [],
   "source": [
    "soup = BeautifulSoup (response.text, \"html.parser\")"
   ]
  },
  {
   "cell_type": "code",
   "execution_count": 5,
   "metadata": {},
   "outputs": [
    {
     "name": "stdout",
     "output_type": "stream",
     "text": [
      "\n",
      "{T}, Sacrifice Black Lotus: Add three mana of any one color.\n",
      "\n"
     ]
    }
   ],
   "source": [
    "oracle = str(soup.find(\"div\", class_=\"card-text-oracle\"))\n",
    "oracle = oracle.replace(\"<div class=\\\"card-text-oracle\\\">\", \"\")\n",
    "oracle = oracle.replace(\"<p>\", \"\")\n",
    "oracle = oracle.replace(\"</p>\", \"\")\n",
    "oracle = oracle.replace(\"</div>\", \"\")\n",
    "italics = re.findall('<i>.*</i>', oracle)\n",
    "for i in italics:\n",
    "    oracle = oracle.replace(i, \"\") #Alles in italics is irrelevant\n",
    "\n",
    "strings = re.findall('<abbr[^(</abbr)].*</abbr>', oracle) #Deze strings bevatten manasymbolen\n",
    "for x in strings:\n",
    "    manas = re.findall('{\\S*}', x) \n",
    "    mana_string = \"\"\n",
    "    for m in manas:\n",
    "        mana_string = mana_string + m\n",
    "    oracle = oracle.replace (x, mana_string)\n",
    "print(oracle)"
   ]
  },
  {
   "cell_type": "code",
   "execution_count": 6,
   "metadata": {},
   "outputs": [
    {
     "name": "stdout",
     "output_type": "stream",
     "text": [
      "{0}\n"
     ]
    }
   ],
   "source": [
    "mana_cost = str(soup.find(\"span\", class_=\"card-text-mana-cost\"))\n",
    "mana_cost = re.findall('{\\S*}', mana_cost) \n",
    "mana_string = \"\"\n",
    "for m in mana_cost:\n",
    "    mana_string = mana_string + m\n",
    "mana_cost = mana_string\n",
    "print(mana_cost)"
   ]
  },
  {
   "cell_type": "code",
   "execution_count": null,
   "metadata": {},
   "outputs": [],
   "source": []
  },
  {
   "cell_type": "code",
   "execution_count": null,
   "metadata": {},
   "outputs": [],
   "source": []
  },
  {
   "cell_type": "code",
   "execution_count": null,
   "metadata": {},
   "outputs": [],
   "source": []
  },
  {
   "cell_type": "code",
   "execution_count": null,
   "metadata": {},
   "outputs": [],
   "source": []
  },
  {
   "cell_type": "code",
   "execution_count": null,
   "metadata": {},
   "outputs": [],
   "source": []
  },
  {
   "cell_type": "code",
   "execution_count": null,
   "metadata": {},
   "outputs": [],
   "source": []
  }
 ],
 "metadata": {
  "kernelspec": {
   "display_name": "Python 3",
   "language": "python",
   "name": "python3"
  },
  "language_info": {
   "codemirror_mode": {
    "name": "ipython",
    "version": 3
   },
   "file_extension": ".py",
   "mimetype": "text/x-python",
   "name": "python",
   "nbconvert_exporter": "python",
   "pygments_lexer": "ipython3",
   "version": "3.7.1"
  }
 },
 "nbformat": 4,
 "nbformat_minor": 2
}
